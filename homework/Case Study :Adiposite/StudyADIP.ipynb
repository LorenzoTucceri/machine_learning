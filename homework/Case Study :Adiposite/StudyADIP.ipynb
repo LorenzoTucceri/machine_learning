{
 "cells": [
  {
   "cell_type": "code",
   "execution_count": 1,
   "metadata": {},
   "outputs": [],
   "source": [
    "import pandas as pd\n",
    "import matplotlib.pyplot as plt\n",
    "import tensorflow\n",
    "from sklearn import metrics\n",
    "import HfuncTS\n",
    "%matplotlib inline\n",
    "import numpy as np\n",
    "from sklearn.preprocessing import StandardScaler\n",
    "#from sklearn.model_selection import train_test_split\n",
    "#from sklearn.neural_network import MLPClassifier\n",
    "#from sklearn.metrics import classification_report\n"
   ]
  },
  {
   "cell_type": "code",
   "execution_count": 2,
   "metadata": {},
   "outputs": [],
   "source": [
    "# Import del dataset\n",
    "\n",
    "dati = pd.read_excel('ADIPOSITE2019.xlsx')"
   ]
  },
  {
   "cell_type": "code",
   "execution_count": 3,
   "metadata": {},
   "outputs": [
    {
     "data": {
      "text/html": [
       "<div>\n",
       "<style scoped>\n",
       "    .dataframe tbody tr th:only-of-type {\n",
       "        vertical-align: middle;\n",
       "    }\n",
       "\n",
       "    .dataframe tbody tr th {\n",
       "        vertical-align: top;\n",
       "    }\n",
       "\n",
       "    .dataframe thead th {\n",
       "        text-align: right;\n",
       "    }\n",
       "</style>\n",
       "<table border=\"1\" class=\"dataframe\">\n",
       "  <thead>\n",
       "    <tr style=\"text-align: right;\">\n",
       "      <th></th>\n",
       "      <th>Unnamed: 0</th>\n",
       "      <th>Sieroteca</th>\n",
       "      <th>codice studio</th>\n",
       "      <th>NT</th>\n",
       "      <th>Copeptin</th>\n",
       "      <th>Vit. D</th>\n",
       "      <th>Granzyme B</th>\n",
       "      <th>Adiponectina</th>\n",
       "      <th>PiiNP pg/ml</th>\n",
       "      <th>PCR</th>\n",
       "      <th>...</th>\n",
       "      <th>vitaAltezza</th>\n",
       "      <th>operati Silecchia</th>\n",
       "      <th>ANGP3 Tessuto adiposo</th>\n",
       "      <th>ANGP3 Tessuto epatico</th>\n",
       "      <th>ANGP4 Tessuto adiposo</th>\n",
       "      <th>ANGP4 Tessuto epatico</th>\n",
       "      <th>ANGP8 Tessuto adiposo</th>\n",
       "      <th>ANGP8 Tessuto epatico</th>\n",
       "      <th>LPL Tessuto adiposo</th>\n",
       "      <th>LPL Tessuto epatico</th>\n",
       "    </tr>\n",
       "  </thead>\n",
       "  <tbody>\n",
       "    <tr>\n",
       "      <th>count</th>\n",
       "      <td>0.0</td>\n",
       "      <td>50.00000</td>\n",
       "      <td>80.0</td>\n",
       "      <td>50.000000</td>\n",
       "      <td>50.000000</td>\n",
       "      <td>49.000000</td>\n",
       "      <td>36.000000</td>\n",
       "      <td>0.0</td>\n",
       "      <td>23.000000</td>\n",
       "      <td>0.0</td>\n",
       "      <td>...</td>\n",
       "      <td>0.0</td>\n",
       "      <td>60.0</td>\n",
       "      <td>38.000000</td>\n",
       "      <td>39.000000</td>\n",
       "      <td>61.000000</td>\n",
       "      <td>39.000000</td>\n",
       "      <td>38.000000</td>\n",
       "      <td>39.000000</td>\n",
       "      <td>61.000000</td>\n",
       "      <td>39.000000</td>\n",
       "    </tr>\n",
       "    <tr>\n",
       "      <th>mean</th>\n",
       "      <td>NaN</td>\n",
       "      <td>25.50000</td>\n",
       "      <td>1.0</td>\n",
       "      <td>182.299687</td>\n",
       "      <td>8.968800</td>\n",
       "      <td>15.172857</td>\n",
       "      <td>19.818056</td>\n",
       "      <td>NaN</td>\n",
       "      <td>6009.130000</td>\n",
       "      <td>NaN</td>\n",
       "      <td>...</td>\n",
       "      <td>NaN</td>\n",
       "      <td>1.0</td>\n",
       "      <td>0.006351</td>\n",
       "      <td>0.063501</td>\n",
       "      <td>1.447520</td>\n",
       "      <td>0.373841</td>\n",
       "      <td>0.024903</td>\n",
       "      <td>0.071791</td>\n",
       "      <td>4.198687</td>\n",
       "      <td>0.000431</td>\n",
       "    </tr>\n",
       "    <tr>\n",
       "      <th>std</th>\n",
       "      <td>NaN</td>\n",
       "      <td>14.57738</td>\n",
       "      <td>0.0</td>\n",
       "      <td>85.584643</td>\n",
       "      <td>5.041415</td>\n",
       "      <td>7.805224</td>\n",
       "      <td>17.053545</td>\n",
       "      <td>NaN</td>\n",
       "      <td>5927.367289</td>\n",
       "      <td>NaN</td>\n",
       "      <td>...</td>\n",
       "      <td>NaN</td>\n",
       "      <td>0.0</td>\n",
       "      <td>0.027313</td>\n",
       "      <td>0.130003</td>\n",
       "      <td>10.583707</td>\n",
       "      <td>0.449031</td>\n",
       "      <td>0.142744</td>\n",
       "      <td>0.085904</td>\n",
       "      <td>31.359203</td>\n",
       "      <td>0.001024</td>\n",
       "    </tr>\n",
       "    <tr>\n",
       "      <th>min</th>\n",
       "      <td>NaN</td>\n",
       "      <td>1.00000</td>\n",
       "      <td>1.0</td>\n",
       "      <td>65.697988</td>\n",
       "      <td>3.070000</td>\n",
       "      <td>4.000000</td>\n",
       "      <td>1.360000</td>\n",
       "      <td>NaN</td>\n",
       "      <td>498.020000</td>\n",
       "      <td>NaN</td>\n",
       "      <td>...</td>\n",
       "      <td>NaN</td>\n",
       "      <td>1.0</td>\n",
       "      <td>0.000000</td>\n",
       "      <td>0.000000</td>\n",
       "      <td>0.000000</td>\n",
       "      <td>0.001100</td>\n",
       "      <td>0.000000</td>\n",
       "      <td>0.000000</td>\n",
       "      <td>0.000683</td>\n",
       "      <td>0.000000</td>\n",
       "    </tr>\n",
       "    <tr>\n",
       "      <th>25%</th>\n",
       "      <td>NaN</td>\n",
       "      <td>13.25000</td>\n",
       "      <td>1.0</td>\n",
       "      <td>123.039336</td>\n",
       "      <td>5.337500</td>\n",
       "      <td>8.560000</td>\n",
       "      <td>3.960000</td>\n",
       "      <td>NaN</td>\n",
       "      <td>1578.220000</td>\n",
       "      <td>NaN</td>\n",
       "      <td>...</td>\n",
       "      <td>NaN</td>\n",
       "      <td>1.0</td>\n",
       "      <td>0.000000</td>\n",
       "      <td>0.001166</td>\n",
       "      <td>0.011314</td>\n",
       "      <td>0.057552</td>\n",
       "      <td>0.000000</td>\n",
       "      <td>0.014688</td>\n",
       "      <td>0.029025</td>\n",
       "      <td>0.000000</td>\n",
       "    </tr>\n",
       "    <tr>\n",
       "      <th>50%</th>\n",
       "      <td>NaN</td>\n",
       "      <td>25.50000</td>\n",
       "      <td>1.0</td>\n",
       "      <td>160.489340</td>\n",
       "      <td>8.060000</td>\n",
       "      <td>14.000000</td>\n",
       "      <td>11.600000</td>\n",
       "      <td>NaN</td>\n",
       "      <td>3211.980000</td>\n",
       "      <td>NaN</td>\n",
       "      <td>...</td>\n",
       "      <td>NaN</td>\n",
       "      <td>1.0</td>\n",
       "      <td>0.000000</td>\n",
       "      <td>0.015412</td>\n",
       "      <td>0.040078</td>\n",
       "      <td>0.219764</td>\n",
       "      <td>0.000028</td>\n",
       "      <td>0.027342</td>\n",
       "      <td>0.133183</td>\n",
       "      <td>0.000000</td>\n",
       "    </tr>\n",
       "    <tr>\n",
       "      <th>75%</th>\n",
       "      <td>NaN</td>\n",
       "      <td>37.75000</td>\n",
       "      <td>1.0</td>\n",
       "      <td>219.465009</td>\n",
       "      <td>11.072500</td>\n",
       "      <td>21.400000</td>\n",
       "      <td>37.120000</td>\n",
       "      <td>NaN</td>\n",
       "      <td>9550.010000</td>\n",
       "      <td>NaN</td>\n",
       "      <td>...</td>\n",
       "      <td>NaN</td>\n",
       "      <td>1.0</td>\n",
       "      <td>0.000000</td>\n",
       "      <td>0.041240</td>\n",
       "      <td>0.116344</td>\n",
       "      <td>0.430999</td>\n",
       "      <td>0.000588</td>\n",
       "      <td>0.093571</td>\n",
       "      <td>0.245265</td>\n",
       "      <td>0.000506</td>\n",
       "    </tr>\n",
       "    <tr>\n",
       "      <th>max</th>\n",
       "      <td>NaN</td>\n",
       "      <td>50.00000</td>\n",
       "      <td>1.0</td>\n",
       "      <td>477.725556</td>\n",
       "      <td>26.540000</td>\n",
       "      <td>35.700000</td>\n",
       "      <td>48.940000</td>\n",
       "      <td>NaN</td>\n",
       "      <td>22445.610000</td>\n",
       "      <td>NaN</td>\n",
       "      <td>...</td>\n",
       "      <td>NaN</td>\n",
       "      <td>1.0</td>\n",
       "      <td>0.158816</td>\n",
       "      <td>0.583908</td>\n",
       "      <td>82.740271</td>\n",
       "      <td>1.497049</td>\n",
       "      <td>0.880362</td>\n",
       "      <td>0.329517</td>\n",
       "      <td>245.101747</td>\n",
       "      <td>0.004857</td>\n",
       "    </tr>\n",
       "  </tbody>\n",
       "</table>\n",
       "<p>8 rows × 189 columns</p>\n",
       "</div>"
      ],
      "text/plain": [
       "       Unnamed: 0  Sieroteca  codice studio          NT   Copeptin     Vit. D  \\\n",
       "count         0.0   50.00000           80.0   50.000000  50.000000  49.000000   \n",
       "mean          NaN   25.50000            1.0  182.299687   8.968800  15.172857   \n",
       "std           NaN   14.57738            0.0   85.584643   5.041415   7.805224   \n",
       "min           NaN    1.00000            1.0   65.697988   3.070000   4.000000   \n",
       "25%           NaN   13.25000            1.0  123.039336   5.337500   8.560000   \n",
       "50%           NaN   25.50000            1.0  160.489340   8.060000  14.000000   \n",
       "75%           NaN   37.75000            1.0  219.465009  11.072500  21.400000   \n",
       "max           NaN   50.00000            1.0  477.725556  26.540000  35.700000   \n",
       "\n",
       "       Granzyme B  Adiponectina   PiiNP pg/ml  PCR  ...  vitaAltezza  \\\n",
       "count   36.000000           0.0     23.000000  0.0  ...          0.0   \n",
       "mean    19.818056           NaN   6009.130000  NaN  ...          NaN   \n",
       "std     17.053545           NaN   5927.367289  NaN  ...          NaN   \n",
       "min      1.360000           NaN    498.020000  NaN  ...          NaN   \n",
       "25%      3.960000           NaN   1578.220000  NaN  ...          NaN   \n",
       "50%     11.600000           NaN   3211.980000  NaN  ...          NaN   \n",
       "75%     37.120000           NaN   9550.010000  NaN  ...          NaN   \n",
       "max     48.940000           NaN  22445.610000  NaN  ...          NaN   \n",
       "\n",
       "       operati Silecchia  ANGP3 Tessuto adiposo  ANGP3 Tessuto epatico  \\\n",
       "count               60.0              38.000000              39.000000   \n",
       "mean                 1.0               0.006351               0.063501   \n",
       "std                  0.0               0.027313               0.130003   \n",
       "min                  1.0               0.000000               0.000000   \n",
       "25%                  1.0               0.000000               0.001166   \n",
       "50%                  1.0               0.000000               0.015412   \n",
       "75%                  1.0               0.000000               0.041240   \n",
       "max                  1.0               0.158816               0.583908   \n",
       "\n",
       "       ANGP4 Tessuto adiposo  ANGP4 Tessuto epatico  ANGP8 Tessuto adiposo  \\\n",
       "count              61.000000              39.000000              38.000000   \n",
       "mean                1.447520               0.373841               0.024903   \n",
       "std                10.583707               0.449031               0.142744   \n",
       "min                 0.000000               0.001100               0.000000   \n",
       "25%                 0.011314               0.057552               0.000000   \n",
       "50%                 0.040078               0.219764               0.000028   \n",
       "75%                 0.116344               0.430999               0.000588   \n",
       "max                82.740271               1.497049               0.880362   \n",
       "\n",
       "       ANGP8 Tessuto epatico  LPL Tessuto adiposo  LPL Tessuto epatico  \n",
       "count              39.000000            61.000000            39.000000  \n",
       "mean                0.071791             4.198687             0.000431  \n",
       "std                 0.085904            31.359203             0.001024  \n",
       "min                 0.000000             0.000683             0.000000  \n",
       "25%                 0.014688             0.029025             0.000000  \n",
       "50%                 0.027342             0.133183             0.000000  \n",
       "75%                 0.093571             0.245265             0.000506  \n",
       "max                 0.329517           245.101747             0.004857  \n",
       "\n",
       "[8 rows x 189 columns]"
      ]
     },
     "execution_count": 3,
     "metadata": {},
     "output_type": "execute_result"
    }
   ],
   "source": [
    "dati.describe()\n"
   ]
  },
  {
   "cell_type": "code",
   "execution_count": 4,
   "metadata": {},
   "outputs": [],
   "source": [
    "#list(dati.columns)"
   ]
  },
  {
   "cell_type": "code",
   "execution_count": 5,
   "metadata": {},
   "outputs": [],
   "source": [
    "#study target#\n",
    "EPASCORES=['Nas Score: Steatosi: grado','Nas Score: classificazione diagnostica:steatoepatite (punteggio)', \n",
    "        'Nas Score: infiammazione: infiammazione lobulare','Nas Score: danno epatocitario:degenerazione balloniforme']\n",
    "EPAT=['CYP27A1 Tessuto epatico','CYP2R1 Tessuto epatico','CYP27B1 tessuto epatico','DPP4 Tessuto epatico','BVRA Tessuto epatico']\n",
    "ADIP=['Netrin-1 Tessuto adiposo',\n",
    " 'UNC5B Tessuto adiposo',\n",
    " 'Caveolin-1 Tessuto adiposo',\n",
    " 'Vitamin D receptor (VDR) Tessuto adiposo',\n",
    " 'IL-8 Tessuto adiposo',\n",
    " 'MIP-1A Tessuto adiposo',\n",
    " 'MIP-2 Tessuto adiposo',\n",
    " 'TIMP1 Tessuto adiposo',\n",
    " 'Granzyme B Tessuto adiposo',\n",
    " 'Caspase 3 Tessuto adiposo',\n",
    " 'Caspase 7 Tessuto adiposo',\n",
    " 'PARP 1 Tessuto adiposo',\n",
    " 'HIF-1A Tessuto adiposo',\n",
    " 'WISP 1 Tessuto adiposo',\n",
    " 'CYP27A1 Tessuto adiposo',\n",
    " 'CYP2R1 Tessuto adiposo',\n",
    " 'CYP27B1 tessuto adiposo',\n",
    " 'DPP4 Tessuto adiposo',\n",
    " 'BVRA Tessuto adiposo']\n",
    "SERUM=['DPP4 Activity',\n",
    " 'Crmg/dl',\n",
    " 'CTmg/dl',\n",
    " 'HDLmg/dl',\n",
    " 'LDLmg/dl',\n",
    " 'TGmg/dl',\n",
    " 'Glimg/dl',\n",
    " 'HbA1c',\n",
    " 'ASTUL',\n",
    " 'ALTUL',\n",
    " 'Urmgdl',\n",
    " 'TSH',\n",
    " 'INSULINEMIA',\n",
    " 'HOMA-IR',\n",
    " 'HOMA-B',\n",
    " 'QUICKI',]\n",
    "PHENO=['sesso',\n",
    " 'età',\n",
    " 'Peso Kg',\n",
    " 'BMI',\n",
    " 'Vita cm',\n",
    " 'Pas mmHg',\n",
    " 'Pad mmHg']\n",
    "FEATURES=[PHENO,SERUM,ADIP,EPAT,EPASCORES]\n",
    "UNIVARS=list()\n",
    "UNIVARS.extend(PHENO)\n",
    "UNIVARS.extend(SERUM)\n",
    "UNIVARS.extend(ADIP)\n",
    "UNIVARS.extend(EPAT)\n",
    "UNIVARS.extend(EPASCORES)\n",
    "\n",
    "#datiEPAT= dati.loc[:44, EPAT]\n",
    "#EPATcolumns=(list(datiEPAT.columns))\n",
    "#EPATcolumns==EPAT\n",
    "#print(UNIVARS)\n"
   ]
  },
  {
   "cell_type": "code",
   "execution_count": 6,
   "metadata": {
    "scrolled": true
   },
   "outputs": [
    {
     "data": {
      "text/html": [
       "<div>\n",
       "<style scoped>\n",
       "    .dataframe tbody tr th:only-of-type {\n",
       "        vertical-align: middle;\n",
       "    }\n",
       "\n",
       "    .dataframe tbody tr th {\n",
       "        vertical-align: top;\n",
       "    }\n",
       "\n",
       "    .dataframe thead th {\n",
       "        text-align: right;\n",
       "    }\n",
       "</style>\n",
       "<table border=\"1\" class=\"dataframe\">\n",
       "  <thead>\n",
       "    <tr style=\"text-align: right;\">\n",
       "      <th></th>\n",
       "      <th>sesso</th>\n",
       "      <th>età</th>\n",
       "      <th>Peso Kg</th>\n",
       "      <th>BMI</th>\n",
       "      <th>Vita cm</th>\n",
       "      <th>Pas mmHg</th>\n",
       "      <th>Pad mmHg</th>\n",
       "      <th>DPP4 Activity</th>\n",
       "      <th>Crmg/dl</th>\n",
       "      <th>CTmg/dl</th>\n",
       "      <th>...</th>\n",
       "      <th>BVRA Tessuto adiposo</th>\n",
       "      <th>CYP27A1 Tessuto epatico</th>\n",
       "      <th>CYP2R1 Tessuto epatico</th>\n",
       "      <th>CYP27B1 tessuto epatico</th>\n",
       "      <th>DPP4 Tessuto epatico</th>\n",
       "      <th>BVRA Tessuto epatico</th>\n",
       "      <th>Nas Score: Steatosi: grado</th>\n",
       "      <th>Nas Score: classificazione diagnostica:steatoepatite (punteggio)</th>\n",
       "      <th>Nas Score: infiammazione: infiammazione lobulare</th>\n",
       "      <th>Nas Score: danno epatocitario:degenerazione balloniforme</th>\n",
       "    </tr>\n",
       "  </thead>\n",
       "  <tbody>\n",
       "    <tr>\n",
       "      <th>count</th>\n",
       "      <td>45.000000</td>\n",
       "      <td>42.000000</td>\n",
       "      <td>41.000000</td>\n",
       "      <td>42.000000</td>\n",
       "      <td>24.000000</td>\n",
       "      <td>39.000000</td>\n",
       "      <td>39.000000</td>\n",
       "      <td>33.000000</td>\n",
       "      <td>40.000000</td>\n",
       "      <td>42.000000</td>\n",
       "      <td>...</td>\n",
       "      <td>34.000000</td>\n",
       "      <td>34.000000</td>\n",
       "      <td>34.000000</td>\n",
       "      <td>34.0</td>\n",
       "      <td>34.000000</td>\n",
       "      <td>34.000000</td>\n",
       "      <td>34.000000</td>\n",
       "      <td>34.000000</td>\n",
       "      <td>34.000000</td>\n",
       "      <td>34.000000</td>\n",
       "    </tr>\n",
       "    <tr>\n",
       "      <th>mean</th>\n",
       "      <td>0.755556</td>\n",
       "      <td>43.690476</td>\n",
       "      <td>118.897561</td>\n",
       "      <td>43.635714</td>\n",
       "      <td>128.041667</td>\n",
       "      <td>128.128205</td>\n",
       "      <td>84.538462</td>\n",
       "      <td>177090.161521</td>\n",
       "      <td>0.787500</td>\n",
       "      <td>195.714286</td>\n",
       "      <td>...</td>\n",
       "      <td>0.014719</td>\n",
       "      <td>0.335910</td>\n",
       "      <td>0.007075</td>\n",
       "      <td>0.0</td>\n",
       "      <td>0.044825</td>\n",
       "      <td>0.001662</td>\n",
       "      <td>1.617647</td>\n",
       "      <td>3.000000</td>\n",
       "      <td>0.705882</td>\n",
       "      <td>0.676471</td>\n",
       "    </tr>\n",
       "    <tr>\n",
       "      <th>std</th>\n",
       "      <td>0.434613</td>\n",
       "      <td>9.585273</td>\n",
       "      <td>17.899448</td>\n",
       "      <td>5.613521</td>\n",
       "      <td>11.547554</td>\n",
       "      <td>15.970663</td>\n",
       "      <td>17.973440</td>\n",
       "      <td>55940.383546</td>\n",
       "      <td>0.153902</td>\n",
       "      <td>32.444539</td>\n",
       "      <td>...</td>\n",
       "      <td>0.040045</td>\n",
       "      <td>0.411137</td>\n",
       "      <td>0.015366</td>\n",
       "      <td>0.0</td>\n",
       "      <td>0.065431</td>\n",
       "      <td>0.005443</td>\n",
       "      <td>1.128547</td>\n",
       "      <td>1.984791</td>\n",
       "      <td>0.718981</td>\n",
       "      <td>0.684043</td>\n",
       "    </tr>\n",
       "    <tr>\n",
       "      <th>min</th>\n",
       "      <td>0.000000</td>\n",
       "      <td>27.000000</td>\n",
       "      <td>86.600000</td>\n",
       "      <td>36.000000</td>\n",
       "      <td>110.000000</td>\n",
       "      <td>105.000000</td>\n",
       "      <td>70.000000</td>\n",
       "      <td>63166.817273</td>\n",
       "      <td>0.500000</td>\n",
       "      <td>117.000000</td>\n",
       "      <td>...</td>\n",
       "      <td>0.000000</td>\n",
       "      <td>0.000000</td>\n",
       "      <td>0.000000</td>\n",
       "      <td>0.0</td>\n",
       "      <td>0.000000</td>\n",
       "      <td>0.000000</td>\n",
       "      <td>0.000000</td>\n",
       "      <td>0.000000</td>\n",
       "      <td>0.000000</td>\n",
       "      <td>0.000000</td>\n",
       "    </tr>\n",
       "    <tr>\n",
       "      <th>25%</th>\n",
       "      <td>1.000000</td>\n",
       "      <td>38.250000</td>\n",
       "      <td>106.000000</td>\n",
       "      <td>40.325000</td>\n",
       "      <td>120.000000</td>\n",
       "      <td>120.000000</td>\n",
       "      <td>80.000000</td>\n",
       "      <td>153490.120769</td>\n",
       "      <td>0.700000</td>\n",
       "      <td>177.750000</td>\n",
       "      <td>...</td>\n",
       "      <td>0.000302</td>\n",
       "      <td>0.078969</td>\n",
       "      <td>0.000000</td>\n",
       "      <td>0.0</td>\n",
       "      <td>0.005754</td>\n",
       "      <td>0.000000</td>\n",
       "      <td>1.000000</td>\n",
       "      <td>1.000000</td>\n",
       "      <td>0.000000</td>\n",
       "      <td>0.000000</td>\n",
       "    </tr>\n",
       "    <tr>\n",
       "      <th>50%</th>\n",
       "      <td>1.000000</td>\n",
       "      <td>42.000000</td>\n",
       "      <td>117.800000</td>\n",
       "      <td>42.400000</td>\n",
       "      <td>126.000000</td>\n",
       "      <td>130.000000</td>\n",
       "      <td>80.000000</td>\n",
       "      <td>173111.995854</td>\n",
       "      <td>0.800000</td>\n",
       "      <td>194.500000</td>\n",
       "      <td>...</td>\n",
       "      <td>0.001378</td>\n",
       "      <td>0.266811</td>\n",
       "      <td>0.000000</td>\n",
       "      <td>0.0</td>\n",
       "      <td>0.024058</td>\n",
       "      <td>0.000000</td>\n",
       "      <td>2.000000</td>\n",
       "      <td>3.000000</td>\n",
       "      <td>1.000000</td>\n",
       "      <td>1.000000</td>\n",
       "    </tr>\n",
       "    <tr>\n",
       "      <th>75%</th>\n",
       "      <td>1.000000</td>\n",
       "      <td>49.000000</td>\n",
       "      <td>128.200000</td>\n",
       "      <td>47.225000</td>\n",
       "      <td>134.500000</td>\n",
       "      <td>135.000000</td>\n",
       "      <td>85.000000</td>\n",
       "      <td>210356.266574</td>\n",
       "      <td>0.900000</td>\n",
       "      <td>206.000000</td>\n",
       "      <td>...</td>\n",
       "      <td>0.006219</td>\n",
       "      <td>0.429891</td>\n",
       "      <td>0.008452</td>\n",
       "      <td>0.0</td>\n",
       "      <td>0.058610</td>\n",
       "      <td>0.000457</td>\n",
       "      <td>3.000000</td>\n",
       "      <td>4.750000</td>\n",
       "      <td>1.000000</td>\n",
       "      <td>1.000000</td>\n",
       "    </tr>\n",
       "    <tr>\n",
       "      <th>max</th>\n",
       "      <td>1.000000</td>\n",
       "      <td>65.000000</td>\n",
       "      <td>164.400000</td>\n",
       "      <td>57.700000</td>\n",
       "      <td>155.000000</td>\n",
       "      <td>190.000000</td>\n",
       "      <td>182.000000</td>\n",
       "      <td>288674.172418</td>\n",
       "      <td>1.200000</td>\n",
       "      <td>269.000000</td>\n",
       "      <td>...</td>\n",
       "      <td>0.194719</td>\n",
       "      <td>2.315266</td>\n",
       "      <td>0.077272</td>\n",
       "      <td>0.0</td>\n",
       "      <td>0.321880</td>\n",
       "      <td>0.024305</td>\n",
       "      <td>3.000000</td>\n",
       "      <td>7.000000</td>\n",
       "      <td>2.000000</td>\n",
       "      <td>2.000000</td>\n",
       "    </tr>\n",
       "  </tbody>\n",
       "</table>\n",
       "<p>8 rows × 51 columns</p>\n",
       "</div>"
      ],
      "text/plain": [
       "           sesso        età     Peso Kg        BMI     Vita cm    Pas mmHg  \\\n",
       "count  45.000000  42.000000   41.000000  42.000000   24.000000   39.000000   \n",
       "mean    0.755556  43.690476  118.897561  43.635714  128.041667  128.128205   \n",
       "std     0.434613   9.585273   17.899448   5.613521   11.547554   15.970663   \n",
       "min     0.000000  27.000000   86.600000  36.000000  110.000000  105.000000   \n",
       "25%     1.000000  38.250000  106.000000  40.325000  120.000000  120.000000   \n",
       "50%     1.000000  42.000000  117.800000  42.400000  126.000000  130.000000   \n",
       "75%     1.000000  49.000000  128.200000  47.225000  134.500000  135.000000   \n",
       "max     1.000000  65.000000  164.400000  57.700000  155.000000  190.000000   \n",
       "\n",
       "         Pad mmHg  DPP4 Activity    Crmg/dl     CTmg/dl  ...  \\\n",
       "count   39.000000      33.000000  40.000000   42.000000  ...   \n",
       "mean    84.538462  177090.161521   0.787500  195.714286  ...   \n",
       "std     17.973440   55940.383546   0.153902   32.444539  ...   \n",
       "min     70.000000   63166.817273   0.500000  117.000000  ...   \n",
       "25%     80.000000  153490.120769   0.700000  177.750000  ...   \n",
       "50%     80.000000  173111.995854   0.800000  194.500000  ...   \n",
       "75%     85.000000  210356.266574   0.900000  206.000000  ...   \n",
       "max    182.000000  288674.172418   1.200000  269.000000  ...   \n",
       "\n",
       "       BVRA Tessuto adiposo  CYP27A1 Tessuto epatico  CYP2R1 Tessuto epatico  \\\n",
       "count             34.000000                34.000000               34.000000   \n",
       "mean               0.014719                 0.335910                0.007075   \n",
       "std                0.040045                 0.411137                0.015366   \n",
       "min                0.000000                 0.000000                0.000000   \n",
       "25%                0.000302                 0.078969                0.000000   \n",
       "50%                0.001378                 0.266811                0.000000   \n",
       "75%                0.006219                 0.429891                0.008452   \n",
       "max                0.194719                 2.315266                0.077272   \n",
       "\n",
       "       CYP27B1 tessuto epatico  DPP4 Tessuto epatico  BVRA Tessuto epatico  \\\n",
       "count                     34.0             34.000000             34.000000   \n",
       "mean                       0.0              0.044825              0.001662   \n",
       "std                        0.0              0.065431              0.005443   \n",
       "min                        0.0              0.000000              0.000000   \n",
       "25%                        0.0              0.005754              0.000000   \n",
       "50%                        0.0              0.024058              0.000000   \n",
       "75%                        0.0              0.058610              0.000457   \n",
       "max                        0.0              0.321880              0.024305   \n",
       "\n",
       "       Nas Score: Steatosi: grado  \\\n",
       "count                   34.000000   \n",
       "mean                     1.617647   \n",
       "std                      1.128547   \n",
       "min                      0.000000   \n",
       "25%                      1.000000   \n",
       "50%                      2.000000   \n",
       "75%                      3.000000   \n",
       "max                      3.000000   \n",
       "\n",
       "       Nas Score: classificazione diagnostica:steatoepatite (punteggio)  \\\n",
       "count                                          34.000000                  \n",
       "mean                                            3.000000                  \n",
       "std                                             1.984791                  \n",
       "min                                             0.000000                  \n",
       "25%                                             1.000000                  \n",
       "50%                                             3.000000                  \n",
       "75%                                             4.750000                  \n",
       "max                                             7.000000                  \n",
       "\n",
       "       Nas Score: infiammazione: infiammazione lobulare  \\\n",
       "count                                         34.000000   \n",
       "mean                                           0.705882   \n",
       "std                                            0.718981   \n",
       "min                                            0.000000   \n",
       "25%                                            0.000000   \n",
       "50%                                            1.000000   \n",
       "75%                                            1.000000   \n",
       "max                                            2.000000   \n",
       "\n",
       "       Nas Score: danno epatocitario:degenerazione balloniforme  \n",
       "count                                          34.000000         \n",
       "mean                                            0.676471         \n",
       "std                                             0.684043         \n",
       "min                                             0.000000         \n",
       "25%                                             0.000000         \n",
       "50%                                             1.000000         \n",
       "75%                                             1.000000         \n",
       "max                                             2.000000         \n",
       "\n",
       "[8 rows x 51 columns]"
      ]
     },
     "execution_count": 6,
     "metadata": {},
     "output_type": "execute_result"
    }
   ],
   "source": [
    "StudyData=dati.loc[:44,UNIVARS]\n",
    "#Eliminate NaN\n",
    "StudyData.dropna(how='all', inplace=True)\n",
    "\n",
    "# Check for NaNs \n",
    "#StudyData.isnull().values.any()\n",
    "\n",
    "\n",
    "StudyData.describe()"
   ]
  },
  {
   "cell_type": "code",
   "execution_count": 7,
   "metadata": {},
   "outputs": [],
   "source": [
    "#StudyData.columns"
   ]
  },
  {
   "cell_type": "code",
   "execution_count": 8,
   "metadata": {},
   "outputs": [
    {
     "data": {
      "text/html": [
       "<div>\n",
       "<style scoped>\n",
       "    .dataframe tbody tr th:only-of-type {\n",
       "        vertical-align: middle;\n",
       "    }\n",
       "\n",
       "    .dataframe tbody tr th {\n",
       "        vertical-align: top;\n",
       "    }\n",
       "\n",
       "    .dataframe thead th {\n",
       "        text-align: right;\n",
       "    }\n",
       "</style>\n",
       "<table border=\"1\" class=\"dataframe\">\n",
       "  <thead>\n",
       "    <tr style=\"text-align: right;\">\n",
       "      <th></th>\n",
       "      <th>sesso</th>\n",
       "      <th>età</th>\n",
       "      <th>Peso Kg</th>\n",
       "      <th>BMI</th>\n",
       "      <th>Vita cm</th>\n",
       "      <th>Pas mmHg</th>\n",
       "      <th>Pad mmHg</th>\n",
       "      <th>DPP4 Activity</th>\n",
       "      <th>Crmg/dl</th>\n",
       "      <th>CTmg/dl</th>\n",
       "      <th>...</th>\n",
       "      <th>BVRA Tessuto adiposo</th>\n",
       "      <th>CYP27A1 Tessuto epatico</th>\n",
       "      <th>CYP2R1 Tessuto epatico</th>\n",
       "      <th>CYP27B1 tessuto epatico</th>\n",
       "      <th>DPP4 Tessuto epatico</th>\n",
       "      <th>BVRA Tessuto epatico</th>\n",
       "      <th>Nas Score: Steatosi: grado</th>\n",
       "      <th>Nas Score: classificazione diagnostica:steatoepatite (punteggio)</th>\n",
       "      <th>Nas Score: infiammazione: infiammazione lobulare</th>\n",
       "      <th>Nas Score: danno epatocitario:degenerazione balloniforme</th>\n",
       "    </tr>\n",
       "  </thead>\n",
       "  <tbody>\n",
       "    <tr>\n",
       "      <th>count</th>\n",
       "      <td>45.000000</td>\n",
       "      <td>42.000000</td>\n",
       "      <td>41.000000</td>\n",
       "      <td>42.000000</td>\n",
       "      <td>24.000000</td>\n",
       "      <td>39.000000</td>\n",
       "      <td>39.000000</td>\n",
       "      <td>33.000000</td>\n",
       "      <td>40.000000</td>\n",
       "      <td>42.000000</td>\n",
       "      <td>...</td>\n",
       "      <td>34.000000</td>\n",
       "      <td>34.000000</td>\n",
       "      <td>34.000000</td>\n",
       "      <td>34.0</td>\n",
       "      <td>34.000000</td>\n",
       "      <td>34.000000</td>\n",
       "      <td>34.000000</td>\n",
       "      <td>34.000000</td>\n",
       "      <td>34.000000</td>\n",
       "      <td>34.000000</td>\n",
       "    </tr>\n",
       "    <tr>\n",
       "      <th>mean</th>\n",
       "      <td>0.755556</td>\n",
       "      <td>43.690476</td>\n",
       "      <td>118.897561</td>\n",
       "      <td>43.635714</td>\n",
       "      <td>128.041667</td>\n",
       "      <td>128.128205</td>\n",
       "      <td>84.538462</td>\n",
       "      <td>177090.161521</td>\n",
       "      <td>0.787500</td>\n",
       "      <td>195.714286</td>\n",
       "      <td>...</td>\n",
       "      <td>0.014719</td>\n",
       "      <td>0.335910</td>\n",
       "      <td>0.007075</td>\n",
       "      <td>0.0</td>\n",
       "      <td>0.044825</td>\n",
       "      <td>0.001662</td>\n",
       "      <td>1.617647</td>\n",
       "      <td>3.000000</td>\n",
       "      <td>0.705882</td>\n",
       "      <td>0.676471</td>\n",
       "    </tr>\n",
       "    <tr>\n",
       "      <th>std</th>\n",
       "      <td>0.434613</td>\n",
       "      <td>9.585273</td>\n",
       "      <td>17.899448</td>\n",
       "      <td>5.613521</td>\n",
       "      <td>11.547554</td>\n",
       "      <td>15.970663</td>\n",
       "      <td>17.973440</td>\n",
       "      <td>55940.383546</td>\n",
       "      <td>0.153902</td>\n",
       "      <td>32.444539</td>\n",
       "      <td>...</td>\n",
       "      <td>0.040045</td>\n",
       "      <td>0.411137</td>\n",
       "      <td>0.015366</td>\n",
       "      <td>0.0</td>\n",
       "      <td>0.065431</td>\n",
       "      <td>0.005443</td>\n",
       "      <td>1.128547</td>\n",
       "      <td>1.984791</td>\n",
       "      <td>0.718981</td>\n",
       "      <td>0.684043</td>\n",
       "    </tr>\n",
       "    <tr>\n",
       "      <th>min</th>\n",
       "      <td>0.000000</td>\n",
       "      <td>27.000000</td>\n",
       "      <td>86.600000</td>\n",
       "      <td>36.000000</td>\n",
       "      <td>110.000000</td>\n",
       "      <td>105.000000</td>\n",
       "      <td>70.000000</td>\n",
       "      <td>63166.817273</td>\n",
       "      <td>0.500000</td>\n",
       "      <td>117.000000</td>\n",
       "      <td>...</td>\n",
       "      <td>0.000000</td>\n",
       "      <td>0.000000</td>\n",
       "      <td>0.000000</td>\n",
       "      <td>0.0</td>\n",
       "      <td>0.000000</td>\n",
       "      <td>0.000000</td>\n",
       "      <td>0.000000</td>\n",
       "      <td>0.000000</td>\n",
       "      <td>0.000000</td>\n",
       "      <td>0.000000</td>\n",
       "    </tr>\n",
       "    <tr>\n",
       "      <th>25%</th>\n",
       "      <td>1.000000</td>\n",
       "      <td>38.250000</td>\n",
       "      <td>106.000000</td>\n",
       "      <td>40.325000</td>\n",
       "      <td>120.000000</td>\n",
       "      <td>120.000000</td>\n",
       "      <td>80.000000</td>\n",
       "      <td>153490.120769</td>\n",
       "      <td>0.700000</td>\n",
       "      <td>177.750000</td>\n",
       "      <td>...</td>\n",
       "      <td>0.000302</td>\n",
       "      <td>0.078969</td>\n",
       "      <td>0.000000</td>\n",
       "      <td>0.0</td>\n",
       "      <td>0.005754</td>\n",
       "      <td>0.000000</td>\n",
       "      <td>1.000000</td>\n",
       "      <td>1.000000</td>\n",
       "      <td>0.000000</td>\n",
       "      <td>0.000000</td>\n",
       "    </tr>\n",
       "    <tr>\n",
       "      <th>50%</th>\n",
       "      <td>1.000000</td>\n",
       "      <td>42.000000</td>\n",
       "      <td>117.800000</td>\n",
       "      <td>42.400000</td>\n",
       "      <td>126.000000</td>\n",
       "      <td>130.000000</td>\n",
       "      <td>80.000000</td>\n",
       "      <td>173111.995854</td>\n",
       "      <td>0.800000</td>\n",
       "      <td>194.500000</td>\n",
       "      <td>...</td>\n",
       "      <td>0.001378</td>\n",
       "      <td>0.266811</td>\n",
       "      <td>0.000000</td>\n",
       "      <td>0.0</td>\n",
       "      <td>0.024058</td>\n",
       "      <td>0.000000</td>\n",
       "      <td>2.000000</td>\n",
       "      <td>3.000000</td>\n",
       "      <td>1.000000</td>\n",
       "      <td>1.000000</td>\n",
       "    </tr>\n",
       "    <tr>\n",
       "      <th>75%</th>\n",
       "      <td>1.000000</td>\n",
       "      <td>49.000000</td>\n",
       "      <td>128.200000</td>\n",
       "      <td>47.225000</td>\n",
       "      <td>134.500000</td>\n",
       "      <td>135.000000</td>\n",
       "      <td>85.000000</td>\n",
       "      <td>210356.266574</td>\n",
       "      <td>0.900000</td>\n",
       "      <td>206.000000</td>\n",
       "      <td>...</td>\n",
       "      <td>0.006219</td>\n",
       "      <td>0.429891</td>\n",
       "      <td>0.008452</td>\n",
       "      <td>0.0</td>\n",
       "      <td>0.058610</td>\n",
       "      <td>0.000457</td>\n",
       "      <td>3.000000</td>\n",
       "      <td>4.750000</td>\n",
       "      <td>1.000000</td>\n",
       "      <td>1.000000</td>\n",
       "    </tr>\n",
       "    <tr>\n",
       "      <th>max</th>\n",
       "      <td>1.000000</td>\n",
       "      <td>65.000000</td>\n",
       "      <td>164.400000</td>\n",
       "      <td>57.700000</td>\n",
       "      <td>155.000000</td>\n",
       "      <td>190.000000</td>\n",
       "      <td>182.000000</td>\n",
       "      <td>288674.172418</td>\n",
       "      <td>1.200000</td>\n",
       "      <td>269.000000</td>\n",
       "      <td>...</td>\n",
       "      <td>0.194719</td>\n",
       "      <td>2.315266</td>\n",
       "      <td>0.077272</td>\n",
       "      <td>0.0</td>\n",
       "      <td>0.321880</td>\n",
       "      <td>0.024305</td>\n",
       "      <td>3.000000</td>\n",
       "      <td>7.000000</td>\n",
       "      <td>2.000000</td>\n",
       "      <td>2.000000</td>\n",
       "    </tr>\n",
       "  </tbody>\n",
       "</table>\n",
       "<p>8 rows × 51 columns</p>\n",
       "</div>"
      ],
      "text/plain": [
       "           sesso        età     Peso Kg        BMI     Vita cm    Pas mmHg  \\\n",
       "count  45.000000  42.000000   41.000000  42.000000   24.000000   39.000000   \n",
       "mean    0.755556  43.690476  118.897561  43.635714  128.041667  128.128205   \n",
       "std     0.434613   9.585273   17.899448   5.613521   11.547554   15.970663   \n",
       "min     0.000000  27.000000   86.600000  36.000000  110.000000  105.000000   \n",
       "25%     1.000000  38.250000  106.000000  40.325000  120.000000  120.000000   \n",
       "50%     1.000000  42.000000  117.800000  42.400000  126.000000  130.000000   \n",
       "75%     1.000000  49.000000  128.200000  47.225000  134.500000  135.000000   \n",
       "max     1.000000  65.000000  164.400000  57.700000  155.000000  190.000000   \n",
       "\n",
       "         Pad mmHg  DPP4 Activity    Crmg/dl     CTmg/dl  ...  \\\n",
       "count   39.000000      33.000000  40.000000   42.000000  ...   \n",
       "mean    84.538462  177090.161521   0.787500  195.714286  ...   \n",
       "std     17.973440   55940.383546   0.153902   32.444539  ...   \n",
       "min     70.000000   63166.817273   0.500000  117.000000  ...   \n",
       "25%     80.000000  153490.120769   0.700000  177.750000  ...   \n",
       "50%     80.000000  173111.995854   0.800000  194.500000  ...   \n",
       "75%     85.000000  210356.266574   0.900000  206.000000  ...   \n",
       "max    182.000000  288674.172418   1.200000  269.000000  ...   \n",
       "\n",
       "       BVRA Tessuto adiposo  CYP27A1 Tessuto epatico  CYP2R1 Tessuto epatico  \\\n",
       "count             34.000000                34.000000               34.000000   \n",
       "mean               0.014719                 0.335910                0.007075   \n",
       "std                0.040045                 0.411137                0.015366   \n",
       "min                0.000000                 0.000000                0.000000   \n",
       "25%                0.000302                 0.078969                0.000000   \n",
       "50%                0.001378                 0.266811                0.000000   \n",
       "75%                0.006219                 0.429891                0.008452   \n",
       "max                0.194719                 2.315266                0.077272   \n",
       "\n",
       "       CYP27B1 tessuto epatico  DPP4 Tessuto epatico  BVRA Tessuto epatico  \\\n",
       "count                     34.0             34.000000             34.000000   \n",
       "mean                       0.0              0.044825              0.001662   \n",
       "std                        0.0              0.065431              0.005443   \n",
       "min                        0.0              0.000000              0.000000   \n",
       "25%                        0.0              0.005754              0.000000   \n",
       "50%                        0.0              0.024058              0.000000   \n",
       "75%                        0.0              0.058610              0.000457   \n",
       "max                        0.0              0.321880              0.024305   \n",
       "\n",
       "       Nas Score: Steatosi: grado  \\\n",
       "count                   34.000000   \n",
       "mean                     1.617647   \n",
       "std                      1.128547   \n",
       "min                      0.000000   \n",
       "25%                      1.000000   \n",
       "50%                      2.000000   \n",
       "75%                      3.000000   \n",
       "max                      3.000000   \n",
       "\n",
       "       Nas Score: classificazione diagnostica:steatoepatite (punteggio)  \\\n",
       "count                                          34.000000                  \n",
       "mean                                            3.000000                  \n",
       "std                                             1.984791                  \n",
       "min                                             0.000000                  \n",
       "25%                                             1.000000                  \n",
       "50%                                             3.000000                  \n",
       "75%                                             4.750000                  \n",
       "max                                             7.000000                  \n",
       "\n",
       "       Nas Score: infiammazione: infiammazione lobulare  \\\n",
       "count                                         34.000000   \n",
       "mean                                           0.705882   \n",
       "std                                            0.718981   \n",
       "min                                            0.000000   \n",
       "25%                                            0.000000   \n",
       "50%                                            1.000000   \n",
       "75%                                            1.000000   \n",
       "max                                            2.000000   \n",
       "\n",
       "       Nas Score: danno epatocitario:degenerazione balloniforme  \n",
       "count                                          34.000000         \n",
       "mean                                            0.676471         \n",
       "std                                             0.684043         \n",
       "min                                             0.000000         \n",
       "25%                                             0.000000         \n",
       "50%                                             1.000000         \n",
       "75%                                             1.000000         \n",
       "max                                             2.000000         \n",
       "\n",
       "[8 rows x 51 columns]"
      ]
     },
     "execution_count": 8,
     "metadata": {},
     "output_type": "execute_result"
    }
   ],
   "source": [
    "scaler = StandardScaler()\n",
    "#scaler.fit(StudyData)\n",
    "#StudyData = pd.DataFrame(scaler.transform(StudyData), index=StudyData.index)\n",
    "#StudyData.columns = StudyData.columns.map(str)\n",
    "\n",
    "StudyData.describe()"
   ]
  },
  {
   "cell_type": "code",
   "execution_count": 9,
   "metadata": {},
   "outputs": [
    {
     "data": {
      "text/plain": [
       "True"
      ]
     },
     "execution_count": 9,
     "metadata": {},
     "output_type": "execute_result"
    }
   ],
   "source": [
    "StudyData=dati.loc[:44,UNIVARS]\n",
    "\n",
    "#Eliminate NaN\n",
    "StudyData.dropna(how='all', inplace=True)\n",
    "\n",
    "# Check for NaNs \n",
    "StudyData.isnull().values.any()\n"
   ]
  },
  {
   "cell_type": "code",
   "execution_count": 10,
   "metadata": {},
   "outputs": [
    {
     "data": {
      "text/plain": [
       "Index(['sesso', 'età', 'Peso Kg', 'BMI', 'Vita cm', 'Pas mmHg', 'Pad mmHg',\n",
       "       'DPP4 Activity', 'Crmg/dl', 'CTmg/dl', 'HDLmg/dl', 'LDLmg/dl',\n",
       "       'TGmg/dl', 'Glimg/dl', 'HbA1c', 'ASTUL', 'ALTUL', 'Urmgdl', 'TSH',\n",
       "       'INSULINEMIA', 'HOMA-IR', 'HOMA-B', 'QUICKI',\n",
       "       'Netrin-1 Tessuto adiposo', 'UNC5B Tessuto adiposo',\n",
       "       'Caveolin-1 Tessuto adiposo',\n",
       "       'Vitamin D receptor (VDR) Tessuto adiposo', 'IL-8 Tessuto adiposo',\n",
       "       'MIP-1A Tessuto adiposo', 'MIP-2 Tessuto adiposo',\n",
       "       'TIMP1 Tessuto adiposo', 'Granzyme B Tessuto adiposo',\n",
       "       'Caspase 3 Tessuto adiposo', 'Caspase 7 Tessuto adiposo',\n",
       "       'PARP 1 Tessuto adiposo', 'HIF-1A Tessuto adiposo',\n",
       "       'WISP 1 Tessuto adiposo', 'CYP27A1 Tessuto adiposo',\n",
       "       'CYP2R1 Tessuto adiposo', 'CYP27B1 tessuto adiposo',\n",
       "       'DPP4 Tessuto adiposo', 'BVRA Tessuto adiposo',\n",
       "       'CYP27A1 Tessuto epatico', 'CYP2R1 Tessuto epatico',\n",
       "       'CYP27B1 tessuto epatico', 'DPP4 Tessuto epatico',\n",
       "       'BVRA Tessuto epatico', 'Nas Score: Steatosi: grado',\n",
       "       'Nas Score: classificazione diagnostica:steatoepatite (punteggio)',\n",
       "       'Nas Score: infiammazione: infiammazione lobulare',\n",
       "       'Nas Score: danno epatocitario:degenerazione balloniforme'],\n",
       "      dtype='object')"
      ]
     },
     "execution_count": 10,
     "metadata": {},
     "output_type": "execute_result"
    }
   ],
   "source": [
    "StudyData.columns"
   ]
  },
  {
   "cell_type": "code",
   "execution_count": 11,
   "metadata": {
    "scrolled": true
   },
   "outputs": [
    {
     "data": {
      "text/html": [
       "<div>\n",
       "<style scoped>\n",
       "    .dataframe tbody tr th:only-of-type {\n",
       "        vertical-align: middle;\n",
       "    }\n",
       "\n",
       "    .dataframe tbody tr th {\n",
       "        vertical-align: top;\n",
       "    }\n",
       "\n",
       "    .dataframe thead th {\n",
       "        text-align: right;\n",
       "    }\n",
       "</style>\n",
       "<table border=\"1\" class=\"dataframe\">\n",
       "  <thead>\n",
       "    <tr style=\"text-align: right;\">\n",
       "      <th></th>\n",
       "      <th>sesso</th>\n",
       "      <th>età</th>\n",
       "      <th>Peso Kg</th>\n",
       "      <th>BMI</th>\n",
       "      <th>Vita cm</th>\n",
       "      <th>Pas mmHg</th>\n",
       "      <th>Pad mmHg</th>\n",
       "      <th>DPP4 Activity</th>\n",
       "      <th>Crmg/dl</th>\n",
       "      <th>CTmg/dl</th>\n",
       "      <th>...</th>\n",
       "      <th>BVRA Tessuto adiposo</th>\n",
       "      <th>CYP27A1 Tessuto epatico</th>\n",
       "      <th>CYP2R1 Tessuto epatico</th>\n",
       "      <th>CYP27B1 tessuto epatico</th>\n",
       "      <th>DPP4 Tessuto epatico</th>\n",
       "      <th>BVRA Tessuto epatico</th>\n",
       "      <th>Nas Score: Steatosi: grado</th>\n",
       "      <th>Nas Score: classificazione diagnostica:steatoepatite (punteggio)</th>\n",
       "      <th>Nas Score: infiammazione: infiammazione lobulare</th>\n",
       "      <th>Nas Score: danno epatocitario:degenerazione balloniforme</th>\n",
       "    </tr>\n",
       "  </thead>\n",
       "  <tbody>\n",
       "    <tr>\n",
       "      <th>count</th>\n",
       "      <td>45</td>\n",
       "      <td>42</td>\n",
       "      <td>41</td>\n",
       "      <td>42</td>\n",
       "      <td>24</td>\n",
       "      <td>39</td>\n",
       "      <td>39</td>\n",
       "      <td>33</td>\n",
       "      <td>40</td>\n",
       "      <td>42</td>\n",
       "      <td>...</td>\n",
       "      <td>34</td>\n",
       "      <td>34</td>\n",
       "      <td>34</td>\n",
       "      <td>34</td>\n",
       "      <td>34</td>\n",
       "      <td>34</td>\n",
       "      <td>34</td>\n",
       "      <td>34</td>\n",
       "      <td>34</td>\n",
       "      <td>34</td>\n",
       "    </tr>\n",
       "    <tr>\n",
       "      <th>unique</th>\n",
       "      <td>2</td>\n",
       "      <td>21</td>\n",
       "      <td>31</td>\n",
       "      <td>32</td>\n",
       "      <td>16</td>\n",
       "      <td>11</td>\n",
       "      <td>8</td>\n",
       "      <td>28</td>\n",
       "      <td>8</td>\n",
       "      <td>30</td>\n",
       "      <td>...</td>\n",
       "      <td>11</td>\n",
       "      <td>20</td>\n",
       "      <td>14</td>\n",
       "      <td>1</td>\n",
       "      <td>18</td>\n",
       "      <td>8</td>\n",
       "      <td>4</td>\n",
       "      <td>8</td>\n",
       "      <td>3</td>\n",
       "      <td>3</td>\n",
       "    </tr>\n",
       "    <tr>\n",
       "      <th>top</th>\n",
       "      <td>99</td>\n",
       "      <td>55</td>\n",
       "      <td>12</td>\n",
       "      <td>5</td>\n",
       "      <td>22</td>\n",
       "      <td>17</td>\n",
       "      <td>8</td>\n",
       "      <td>44</td>\n",
       "      <td>42</td>\n",
       "      <td>44</td>\n",
       "      <td>...</td>\n",
       "      <td>0</td>\n",
       "      <td>0</td>\n",
       "      <td>0</td>\n",
       "      <td>49</td>\n",
       "      <td>0</td>\n",
       "      <td>0</td>\n",
       "      <td>99</td>\n",
       "      <td>14</td>\n",
       "      <td>0</td>\n",
       "      <td>49</td>\n",
       "    </tr>\n",
       "    <tr>\n",
       "      <th>freq</th>\n",
       "      <td>34</td>\n",
       "      <td>6</td>\n",
       "      <td>3</td>\n",
       "      <td>3</td>\n",
       "      <td>4</td>\n",
       "      <td>10</td>\n",
       "      <td>20</td>\n",
       "      <td>3</td>\n",
       "      <td>13</td>\n",
       "      <td>3</td>\n",
       "      <td>...</td>\n",
       "      <td>18</td>\n",
       "      <td>6</td>\n",
       "      <td>19</td>\n",
       "      <td>34</td>\n",
       "      <td>7</td>\n",
       "      <td>24</td>\n",
       "      <td>10</td>\n",
       "      <td>7</td>\n",
       "      <td>15</td>\n",
       "      <td>15</td>\n",
       "    </tr>\n",
       "  </tbody>\n",
       "</table>\n",
       "<p>4 rows × 51 columns</p>\n",
       "</div>"
      ],
      "text/plain": [
       "        sesso  età  Peso Kg  BMI  Vita cm  Pas mmHg  Pad mmHg  DPP4 Activity  \\\n",
       "count      45   42       41   42       24        39        39             33   \n",
       "unique      2   21       31   32       16        11         8             28   \n",
       "top        99   55       12    5       22        17         8             44   \n",
       "freq       34    6        3    3        4        10        20              3   \n",
       "\n",
       "        Crmg/dl  CTmg/dl  ...  BVRA Tessuto adiposo  CYP27A1 Tessuto epatico  \\\n",
       "count        40       42  ...                    34                       34   \n",
       "unique        8       30  ...                    11                       20   \n",
       "top          42       44  ...                     0                        0   \n",
       "freq         13        3  ...                    18                        6   \n",
       "\n",
       "        CYP2R1 Tessuto epatico  CYP27B1 tessuto epatico  DPP4 Tessuto epatico  \\\n",
       "count                       34                       34                    34   \n",
       "unique                      14                        1                    18   \n",
       "top                          0                       49                     0   \n",
       "freq                        19                       34                     7   \n",
       "\n",
       "        BVRA Tessuto epatico  Nas Score: Steatosi: grado  \\\n",
       "count                     34                          34   \n",
       "unique                     8                           4   \n",
       "top                        0                          99   \n",
       "freq                      24                          10   \n",
       "\n",
       "        Nas Score: classificazione diagnostica:steatoepatite (punteggio)  \\\n",
       "count                                                  34                  \n",
       "unique                                                  8                  \n",
       "top                                                    14                  \n",
       "freq                                                    7                  \n",
       "\n",
       "        Nas Score: infiammazione: infiammazione lobulare  \\\n",
       "count                                                 34   \n",
       "unique                                                 3   \n",
       "top                                                    0   \n",
       "freq                                                  15   \n",
       "\n",
       "        Nas Score: danno epatocitario:degenerazione balloniforme  \n",
       "count                                                  34         \n",
       "unique                                                  3         \n",
       "top                                                    49         \n",
       "freq                                                   15         \n",
       "\n",
       "[4 rows x 51 columns]"
      ]
     },
     "execution_count": 11,
     "metadata": {},
     "output_type": "execute_result"
    }
   ],
   "source": [
    "#Discretize\n",
    "\n",
    "n_intervals =100\n",
    "\n",
    "for column in StudyData.columns:\n",
    "    StudyData[column] = pd.cut(StudyData[column], n_intervals, labels=list(range(n_intervals)))\n",
    "\n",
    "StudyData.describe()\n",
    "#print(StudyData)"
   ]
  },
  {
   "cell_type": "code",
   "execution_count": null,
   "metadata": {},
   "outputs": [],
   "source": [
    "\n"
   ]
  },
  {
   "cell_type": "code",
   "execution_count": 12,
   "metadata": {},
   "outputs": [
    {
     "data": {
      "text/plain": [
       "<Figure size 432x288 with 0 Axes>"
      ]
     },
     "metadata": {},
     "output_type": "display_data"
    },
    {
     "data": {
      "image/png": "[encoded data removed]",
      "text/plain": [
       "<Figure size 504x288 with 2 Axes>"
      ]
     },
     "metadata": {
      "needs_background": "light"
     },
     "output_type": "display_data"
    }
   ],
   "source": [
    "\n",
    "# Features Entropy\n",
    "\n",
    "Info=dict((x,HfuncTS.H(\n",
    "            StudyData,\n",
    "            set([x]))) for x in UNIVARS)\n",
    "#print(InfoUNIVARS)\n",
    "plt.clf()\n",
    "data=Info\n",
    "names = range(len(list(data.keys())))\n",
    "#names = list(data.keys())\n",
    "values = list(data.values())\n",
    "\n",
    "fig, axs = plt.subplots(1, 2, figsize=(7, 4), sharey=True)\n",
    "axs[0].bar(names, values)\n",
    "axs[1].scatter(names, values)\n",
    "#axs[2].plot(names, values)\n",
    "fig.suptitle('Absolute Entropies')\n",
    "\n",
    "###'''\n",
    "\n",
    "plt.show()\n",
    "\n"
   ]
  },
  {
   "cell_type": "code",
   "execution_count": 13,
   "metadata": {},
   "outputs": [
    {
     "name": "stdout",
     "output_type": "stream",
     "text": [
      "[('Netrin-1 Tessuto adiposo', 3.4095755786240125), ('UNC5B Tessuto adiposo', 3.8847773116296604), ('Caveolin-1 Tessuto adiposo', 3.3650701572315977), ('Vitamin D receptor (VDR) Tessuto adiposo', 3.3660000234530734), ('IL-8 Tessuto adiposo', 2.7115775889747438), ('MIP-1A Tessuto adiposo', 2.6517357938239767), ('MIP-2 Tessuto adiposo', 3.7682192561221823), ('TIMP1 Tessuto adiposo', 3.5152397453387563), ('Granzyme B Tessuto adiposo', 2.4122292559298733), ('Caspase 3 Tessuto adiposo', 3.4344514781520954), ('Caspase 7 Tessuto adiposo', 2.699333356786407), ('PARP 1 Tessuto adiposo', 2.911595224863449), ('HIF-1A Tessuto adiposo', 1.8415157524034824), ('WISP 1 Tessuto adiposo', 2.139618423074452), ('CYP27A1 Tessuto adiposo', 3.595453978104019), ('CYP2R1 Tessuto adiposo', 2.2714946315031357), ('CYP27B1 tessuto adiposo', 2.2006986479475787), ('DPP4 Tessuto adiposo', 3.150592724911526), ('BVRA Tessuto adiposo', 2.650357866704445)]\n"
     ]
    }
   ],
   "source": [
    "\n",
    "# Features Entropy\n",
    "\n",
    "entro=[(x,HfuncTS.H(\n",
    "            StudyData,\n",
    "            set([x]))) for x in ADIP]\n",
    "print(entro)"
   ]
  },
  {
   "cell_type": "code",
   "execution_count": 14,
   "metadata": {},
   "outputs": [
    {
     "name": "stdout",
     "output_type": "stream",
     "text": [
      "0.9531754051774818\n"
     ]
    }
   ],
   "source": [
    "print(HfuncTS.II(StudyData, set(['CYP27A1 Tessuto epatico','CYP2R1 Tessuto epatico','CYP27B1 tessuto epatico','DPP4 Tessuto epatico','BVRA Tessuto epatico']),set(['Nas Score: Steatosi: grado'])))"
   ]
  },
  {
   "cell_type": "code",
   "execution_count": 15,
   "metadata": {},
   "outputs": [
    {
     "name": "stdout",
     "output_type": "stream",
     "text": [
      "0.9340586479642904\n"
     ]
    }
   ],
   "source": [
    "print(HfuncTS.II(StudyData, \n",
    "                 set(['CYP27A1 Tessuto epatico','CYP2R1 Tessuto epatico','CYP27B1 tessuto epatico','DPP4 Tessuto epatico','BVRA Tessuto epatico']),\n",
    "                 set(set(EPASCORES))))"
   ]
  },
  {
   "cell_type": "code",
   "execution_count": 18,
   "metadata": {},
   "outputs": [
    {
     "name": "stdout",
     "output_type": "stream",
     "text": [
      "5.491853096329673\n",
      "4.646214256218338\n",
      "3.9124464782482495\n",
      "4.388222245675298\n",
      "5.386188929614931\n",
      "5.491853096329673\n",
      "5.491853096329673\n"
     ]
    }
   ],
   "source": [
    "print(HfuncTS.H(StudyData, set(StudyData.columns)))\n",
    "print(HfuncTS.H(StudyData, set(ADIP)))\n",
    "print(HfuncTS.H(StudyData, set(EPASCORES)))\n",
    "print(HfuncTS.H(StudyData, set(EPAT)))\n",
    "print(HfuncTS.H(StudyData, set(PHENO)))\n",
    "print(HfuncTS.H(StudyData, set(SERUM)))\n",
    "print(HfuncTS.H(StudyData, set(UNIVARS)))\n",
    "\n",
    "\n",
    "#FEATURES_INFO=dict((x,HfuncTS.H(StudyData,set(x))) for x in FEATURES)"
   ]
  },
  {
   "cell_type": "code",
   "execution_count": 19,
   "metadata": {},
   "outputs": [
    {
     "name": "stdout",
     "output_type": "stream",
     "text": [
      "4.388222245675298\n"
     ]
    }
   ],
   "source": [
    "print(HfuncTS.H(StudyData, \n",
    "                 set(['CYP27A1 Tessuto epatico','CYP2R1 Tessuto epatico','CYP27B1 tessuto epatico','DPP4 Tessuto epatico','BVRA Tessuto epatico'])))\n"
   ]
  },
  {
   "cell_type": "code",
   "execution_count": 20,
   "metadata": {},
   "outputs": [
    {
     "name": "stdout",
     "output_type": "stream",
     "text": [
      "{'Vitamin D receptor (VDR) Tessuto adiposo', 'Caspase 3 Tessuto adiposo', 'UNC5B Tessuto adiposo'}\n"
     ]
    }
   ],
   "source": [
    "#\n",
    "#MINSUFF=minsuffI(df,)\n",
    "Discard=set()\n",
    "OUTT=set(ADIP)\n",
    "#In=set(UNIVARS- Discard - Out)\n",
    "INN=set(ADIP)-Discard\n",
    "MINSUFF= HfuncTS.minsuffI(StudyData,INN,OUTT)\n",
    "print(MINSUFF)\n"
   ]
  },
  {
   "cell_type": "code",
   "execution_count": 43,
   "metadata": {},
   "outputs": [
    {
     "name": "stdout",
     "output_type": "stream",
     "text": [
      "{'Caspase 7 Tessuto adiposo', 'HIF-1A Tessuto adiposo', 'DPP4 Tessuto adiposo', 'MIP-1A Tessuto adiposo', 'Granzyme B Tessuto adiposo'}\n"
     ]
    }
   ],
   "source": [
    "#MINSUFF=minsuffI(df,)\n",
    "Discard=set({'TIMP1 Tessuto adiposo', 'IL-8 Tessuto adiposo', 'BVRA Tessuto adiposo','PARP 1 Tessuto adiposo', 'Netrin-1 Tessuto adiposo', 'CYP27A1 Tessuto adiposo','Caveolin-1 Tessuto adiposo', 'MIP-2 Tessuto adiposo', 'CYP27B1 tessuto adiposo','Vitamin D receptor (VDR) Tessuto adiposo', 'Caspase 3 Tessuto adiposo', 'UNC5B Tessuto adiposo'})\n",
    "OUTT=set(ADIP)\n",
    "#In=set(UNIVARS- Discard - Out)\n",
    "INN=set(ADIP)-Discard\n",
    "MINSUFF= HfuncTS.minsuffI(StudyData,INN,OUTT)\n",
    "print(MINSUFF)\n"
   ]
  },
  {
   "cell_type": "code",
   "execution_count": 21,
   "metadata": {},
   "outputs": [
    {
     "name": "stdout",
     "output_type": "stream",
     "text": [
      "{'Vitamin D receptor (VDR) Tessuto adiposo': 0.7244607841638236, 'Caspase 3 Tessuto adiposo': 0.7391935215978342, 'UNC5B Tessuto adiposo': 0.8361166957443696}\n"
     ]
    }
   ],
   "source": [
    "#print(HfuncTS.II(StudyData,set(MINSUFF),set(ADIP)))\n",
    "INFSUFF=dict((x,HfuncTS.II(StudyData,set([x]),set(ADIP)-set([x]))) for x in MINSUFF)\n",
    "print(INFSUFF)"
   ]
  },
  {
   "cell_type": "code",
   "execution_count": 22,
   "metadata": {},
   "outputs": [
    {
     "name": "stdout",
     "output_type": "stream",
     "text": [
      "0.842071902519769\n"
     ]
    },
    {
     "data": {
      "text/plain": [
       "1.0"
      ]
     },
     "execution_count": 22,
     "metadata": {},
     "output_type": "execute_result"
    }
   ],
   "source": [
    "#information relations EPASCORES ADIP\n",
    "print(HfuncTS.II(StudyData,set(EPASCORES),set(ADIP)))\n",
    "HfuncTS.II(StudyData,set(ADIP),set(EPASCORES))\n"
   ]
  },
  {
   "cell_type": "code",
   "execution_count": 23,
   "metadata": {},
   "outputs": [
    {
     "name": "stdout",
     "output_type": "stream",
     "text": [
      "0.832787006470961\n"
     ]
    },
    {
     "data": {
      "text/plain": [
       "0.9340586479642904"
      ]
     },
     "execution_count": 23,
     "metadata": {},
     "output_type": "execute_result"
    }
   ],
   "source": [
    "#information relations EPASCORES EPAT\n",
    "print(HfuncTS.II(StudyData,set(EPASCORES),set(EPAT)))\n",
    "HfuncTS.II(StudyData,set(EPAT),set(EPASCORES))\n"
   ]
  },
  {
   "cell_type": "code",
   "execution_count": 24,
   "metadata": {},
   "outputs": [
    {
     "name": "stdout",
     "output_type": "stream",
     "text": [
      "1.0\n"
     ]
    },
    {
     "data": {
      "text/plain": [
       "0.8460193990482932"
      ]
     },
     "execution_count": 24,
     "metadata": {},
     "output_type": "execute_result"
    }
   ],
   "source": [
    "#information relations SERUM ADIP\n",
    "print(HfuncTS.II(StudyData,set(SERUM),set(ADIP)))\n",
    "HfuncTS.II(StudyData,set(ADIP),set(SERUM))\n"
   ]
  },
  {
   "cell_type": "code",
   "execution_count": 25,
   "metadata": {},
   "outputs": [
    {
     "name": "stdout",
     "output_type": "stream",
     "text": [
      "1.0\n"
     ]
    },
    {
     "data": {
      "text/plain": [
       "0.8460193990482932"
      ]
     },
     "execution_count": 25,
     "metadata": {},
     "output_type": "execute_result"
    }
   ],
   "source": [
    "#information relations SERUM+PHENO ADIP\n",
    "ANAM=set(SERUM) | set(PHENO)\n",
    "print(HfuncTS.II(StudyData,set(ANAM),set(ADIP)))\n",
    "HfuncTS.II(StudyData,set(ADIP),set(ANAM))\n"
   ]
  },
  {
   "cell_type": "code",
   "execution_count": 26,
   "metadata": {},
   "outputs": [
    {
     "name": "stdout",
     "output_type": "stream",
     "text": [
      "1.0\n"
     ]
    },
    {
     "data": {
      "text/plain": [
       "0.980759833728007"
      ]
     },
     "execution_count": 26,
     "metadata": {},
     "output_type": "execute_result"
    }
   ],
   "source": [
    "#information relations SERUM PHENO \n",
    "print(HfuncTS.II(StudyData,set(SERUM),set(PHENO)))\n",
    "HfuncTS.II(StudyData,set(PHENO),set(SERUM))\n",
    "#information relations SERUM+PHENO ADIP"
   ]
  },
  {
   "cell_type": "code",
   "execution_count": 39,
   "metadata": {},
   "outputs": [
    {
     "name": "stdout",
     "output_type": "stream",
     "text": [
      "1.0\n"
     ]
    },
    {
     "data": {
      "text/plain": [
       "0.9444726402365642"
      ]
     },
     "execution_count": 39,
     "metadata": {},
     "output_type": "execute_result"
    }
   ],
   "source": [
    "#information relations ADIP EPAT\n",
    "print(HfuncTS.II(StudyData,set(ADIP),set(EPAT)))\n",
    "HfuncTS.II(StudyData,set(EPAT),set(ADIP))\n"
   ]
  },
  {
   "cell_type": "code",
   "execution_count": 27,
   "metadata": {},
   "outputs": [
    {
     "name": "stdout",
     "output_type": "stream",
     "text": [
      "1.0\n"
     ]
    },
    {
     "data": {
      "text/plain": [
       "0.7124091649252279"
      ]
     },
     "execution_count": 27,
     "metadata": {},
     "output_type": "execute_result"
    }
   ],
   "source": [
    "#information relations SERUM EPASCORES\n",
    "print(HfuncTS.II(StudyData,set(SERUM),set(EPASCORES)))\n",
    "HfuncTS.II(StudyData,set(EPASCORES),set(SERUM))\n"
   ]
  },
  {
   "cell_type": "code",
   "execution_count": 28,
   "metadata": {},
   "outputs": [
    {
     "name": "stdout",
     "output_type": "stream",
     "text": [
      "1.0\n"
     ]
    },
    {
     "data": {
      "text/plain": [
       "0.8460193990482932"
      ]
     },
     "execution_count": 28,
     "metadata": {},
     "output_type": "execute_result"
    }
   ],
   "source": [
    "#information relations SERUM EPA\n",
    "EPA=set(EPASCORES)|set(EPAT)\n",
    "print(HfuncTS.II(StudyData,set(SERUM),EPA))\n",
    "HfuncTS.II(StudyData,EPA,set(SERUM))\n"
   ]
  },
  {
   "cell_type": "code",
   "execution_count": 29,
   "metadata": {},
   "outputs": [
    {
     "name": "stdout",
     "output_type": "stream",
     "text": [
      "1.0\n"
     ]
    },
    {
     "data": {
      "text/plain": [
       "1.0"
      ]
     },
     "execution_count": 29,
     "metadata": {},
     "output_type": "execute_result"
    }
   ],
   "source": [
    "#information relations EPASCORES+EPAT  ADIP\n",
    "EPA=set(EPASCORES)|set(EPAT)\n",
    "print(HfuncTS.II(StudyData,set(EPA),set(ADIP)))\n",
    "HfuncTS.II(StudyData,set(ADIP),set(EPA))\n"
   ]
  },
  {
   "cell_type": "code",
   "execution_count": 30,
   "metadata": {},
   "outputs": [
    {
     "name": "stdout",
     "output_type": "stream",
     "text": [
      "\n",
      "  {'DPP4 Activity', 'HbA1c'}\n"
     ]
    }
   ],
   "source": [
    "#\n",
    "#MINSUFF=minsuffI(df,)\n",
    "Discard=['TSH']\n",
    "OUTT=set(['Nas Score: Steatosi: grado'])\n",
    "#In=set(UNIVARS- Discard - Out)\n",
    "INN=set(SERUM)-set(Discard)\n",
    "MINSUFF= HfuncTS.minsuffI(StudyData,INN,OUTT)\n",
    "print('\\n ',MINSUFF)\n"
   ]
  },
  {
   "cell_type": "code",
   "execution_count": 34,
   "metadata": {},
   "outputs": [
    {
     "name": "stdout",
     "output_type": "stream",
     "text": [
      "\n",
      "  {'DPP4 Activity', 'TSH'}\n"
     ]
    }
   ],
   "source": [
    "#MINSUFF=minsuffI(df,)\n",
    "\n",
    "Discard=['HbA1c']\n",
    "OUTT=set(EPASCORES)\n",
    "#In=set(UNIVARS- Discard - Out)\n",
    "INN=set(SERUM)-set(Discard)\n",
    "MINSUFF= HfuncTS.minsuffI(StudyData,INN,OUTT)\n",
    "print('\\n ',MINSUFF)\n"
   ]
  },
  {
   "cell_type": "code",
   "execution_count": 31,
   "metadata": {},
   "outputs": [
    {
     "name": "stdout",
     "output_type": "stream",
     "text": [
      "\n",
      "  {'DPP4 Activity', 'TSH'}\n"
     ]
    }
   ],
   "source": [
    "#\n",
    "#MINSUFF=minsuffI(df,)\n",
    "Discard=[]\n",
    "OUTT=set(EPASCORES)\n",
    "#In=set(UNIVARS- Discard - Out)\n",
    "INN=set(SERUM)- set(Discard)\n",
    "MINSUFF= HfuncTS.minsuffI(StudyData,INN,OUTT)\n",
    "print('\\n ',MINSUFF)\n",
    "\n"
   ]
  },
  {
   "cell_type": "code",
   "execution_count": 32,
   "metadata": {},
   "outputs": [
    {
     "name": "stdout",
     "output_type": "stream",
     "text": [
      "0.8818195773203639\n"
     ]
    },
    {
     "data": {
      "text/plain": [
       "0.6081240338819525"
      ]
     },
     "execution_count": 32,
     "metadata": {},
     "output_type": "execute_result"
    }
   ],
   "source": [
    "print(HfuncTS.II(StudyData,set(['DPP4 Activity']),set(EPASCORES)))\n",
    "HfuncTS.II(StudyData,set(['HbA1c']),set(EPASCORES))\n"
   ]
  },
  {
   "cell_type": "code",
   "execution_count": 33,
   "metadata": {},
   "outputs": [
    {
     "name": "stdout",
     "output_type": "stream",
     "text": [
      "\n",
      "  {'HDLmg/dl', 'DPP4 Activity', 'ALTUL'}\n"
     ]
    }
   ],
   "source": [
    "#MINSUFF=minsuffI(df,)\n",
    "Discard=['TSH','HbA1c']\n",
    "OUTT=set(EPASCORES)\n",
    "#In=set(UNIVARS- Discard - Out)\n",
    "INN=set(SERUM)-set(Discard)\n",
    "MINSUFF= HfuncTS.minsuffI(StudyData,INN,OUTT)\n",
    "print('\\n ',MINSUFF)\n"
   ]
  },
  {
   "cell_type": "code",
   "execution_count": 35,
   "metadata": {},
   "outputs": [
    {
     "name": "stdout",
     "output_type": "stream",
     "text": [
      "\n",
      "  {'DPP4 Activity', 'Glimg/dl'}\n"
     ]
    }
   ],
   "source": [
    "#MINSUFF=minsuffI(df,)\n",
    "Discard=['TSH','HbA1c','HDLmg/dl']\n",
    "OUTT=set(EPASCORES)\n",
    "#In=set(UNIVARS- Discard - Out)\n",
    "INN=set(SERUM)-set(Discard)\n",
    "MINSUFF= HfuncTS.minsuffI(StudyData,INN,OUTT)\n",
    "print('\\n ',MINSUFF)\n"
   ]
  },
  {
   "cell_type": "code",
   "execution_count": 36,
   "metadata": {},
   "outputs": [
    {
     "name": "stdout",
     "output_type": "stream",
     "text": [
      "\n",
      "  {'DPP4 Activity', 'CTmg/dl'}\n"
     ]
    }
   ],
   "source": [
    "#MINSUFF=minsuffI(df,)\n",
    "Discard=['TSH','HbA1c','HDLmg/dl','Glimg/dl']\n",
    "OUTT=set(EPASCORES)\n",
    "#In=set(UNIVARS- Discard - Out)\n",
    "INN=set(SERUM)-set(Discard)\n",
    "MINSUFF= HfuncTS.minsuffI(StudyData,INN,OUTT)\n",
    "print('\\n ',MINSUFF)\n"
   ]
  },
  {
   "cell_type": "code",
   "execution_count": null,
   "metadata": {},
   "outputs": [],
   "source": []
  }
 ],
 "metadata": {
  "kernelspec": {
   "display_name": "Python 3 (ipykernel)",
   "language": "python",
   "name": "python3"
  },
  "language_info": {
   "codemirror_mode": {
    "name": "ipython",
    "version": 3
   },
   "file_extension": ".py",
   "mimetype": "text/x-python",
   "name": "python",
   "nbconvert_exporter": "python",
   "pygments_lexer": "ipython3",
   "version": "3.10.12"
  }
 },
 "nbformat": 4,
 "nbformat_minor": 4
}
